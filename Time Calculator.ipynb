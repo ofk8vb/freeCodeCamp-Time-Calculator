{
 "cells": [
  {
   "cell_type": "code",
   "execution_count": null,
   "metadata": {},
   "outputs": [],
   "source": [
    "Assignment\n",
    "Write a function named add_time that takes in two required parameters and one optional parameter:\n",
    "\n",
    "a start time in the 12-hour clock format (ending in AM or PM)\n",
    "a duration time that indicates the number of hours and minutes\n",
    "(optional) a starting day of the week, case insensitive\n",
    "The function should add the duration time to the start time and return the result.\n",
    "\n",
    "If the result will be the next day, it should show (next day) after the time. If the result will be more than one day later, it should show (n days later) after the time, where \"n\" is the number of days later.\n",
    "\n",
    "If the function is given the optional starting day of the week parameter, then the output should display the day of the week of the result. The day of the week in the output should appear after the time and before the number of days later.\n",
    "\n",
    "Below are some examples of different cases the function should handle. Pay close attention to the spacing and punctuation of the results.\n",
    "\n",
    "add_time(\"3:00 PM\", \"3:10\")\n",
    "# Returns: 6:10 PM\n",
    " \n",
    "add_time(\"11:30 AM\", \"2:32\", \"Monday\")\n",
    "# Returns: 2:02 PM, Monday\n",
    " \n",
    "add_time(\"11:43 AM\", \"00:20\")\n",
    "# Returns: 12:03 PM\n",
    " \n",
    "add_time(\"10:10 PM\", \"3:30\")\n",
    "# Returns: 1:40 AM (next day)\n",
    " \n",
    "add_time(\"11:43 PM\", \"24:20\", \"tueSday\")\n",
    "# Returns: 12:03 AM, Thursday (2 days later)\n",
    " \n",
    "add_time(\"6:30 PM\", \"205:12\")\n",
    "# Returns: 7:42 AM (9 days later)\n",
    "copied!\n",
    "add_time(\"3:00 PM\", \"3:10\")\n",
    "# Returns: 6:10 PM\n",
    "\n",
    "add_time(\"11:30 AM\", \"2:32\", \"Monday\")\n",
    "# Returns: 2:02 PM, Monday\n",
    "\n",
    "add_time(\"11:43 AM\", \"00:20\")\n",
    "# Returns: 12:03 PM\n",
    "\n",
    "add_time(\"10:10 PM\", \"3:30\")\n",
    "# Returns: 1:40 AM (next day)\n",
    "\n",
    "add_time(\"11:43 PM\", \"24:20\", \"tueSday\")\n",
    "# Returns: 12:03 AM, Thursday (2 days later)\n",
    "\n",
    "add_time(\"6:30 PM\", \"205:12\")\n",
    "# Returns: 7:42 AM (9 days later)\n",
    "Do not import any Python libraries. Assume that the start times are valid times. The minutes in the duration time will be a whole number less than 60, but the hour can be any whole number."
   ]
  },
  {
   "cell_type": "code",
   "execution_count": 228,
   "metadata": {},
   "outputs": [],
   "source": [
    "def truncate(n, decimals=0):\n",
    "    multiplier = 10 ** decimals\n",
    "    return int(n * multiplier) / multiplier\n",
    "\n",
    "# start time must be in the 12-hour clock format (ending in AM or PM)\n",
    "# duration time must indicate the number of hours and minutes\n",
    "# start_day is the starting day of the week (case insensitive)\n",
    "def add_time(start_time, duration,start_day='none'):\n",
    "    \n",
    "    # dictionary that will be used for day of the week arithmetics\n",
    "    days = {'monday':1,'tuesday':2,'wednesday':3,'thursday':4,'friday':5,'saturday':6,'sunday':7}\n",
    "    \n",
    "    # setting up variables\n",
    "    minutes_in_a_day = 1440\n",
    "    starting_time = start_time.split(' ')[0]\n",
    "    am_or_pm = start_time.split(' ')[1]\n",
    "\n",
    "    starting_hour = int(starting_time.split(':')[0])\n",
    "    starting_minute = int(starting_time.split(':')[1])\n",
    "    \n",
    "    if am_or_pm == 'PM':\n",
    "        starting_hour=starting_hour+12\n",
    "\n",
    "    start_minutes_total = starting_hour*60+starting_minute\n",
    "\n",
    "    \n",
    "    duration_hour = int(duration.split(':')[0])\n",
    "    duration_minute = int(duration.split(':')[1])\n",
    "    duration_minutes_total = duration_hour*60+duration_minute\n",
    " \n",
    "    # Figuring out passed time\n",
    "    total_time = start_minutes_total + duration_minutes_total\n",
    "    day_passed=0\n",
    "    total_time_in_hours=int(truncate(total_time/60))\n",
    "    total_time_in_minutes = total_time%60\n",
    "    \n",
    "    if total_time_in_minutes<10:\n",
    "        total_time_in_minutes='0{}'.format(total_time_in_minutes)\n",
    "    print(total_time_in_hours)   \n",
    "    if (total_time > 720):\n",
    "        am_or_pm = 'PM'\n",
    "        if total_time_in_hours != 12:\n",
    "            total_time_in_hours = total_time_in_hours-12\n",
    "        \n",
    "    else:\n",
    "        am_or_pm ='AM'\n",
    "        \n",
    "    if(total_time>minutes_in_a_day):\n",
    "      \n",
    "        day_passed = int(truncate(total_time/minutes_in_a_day))\n",
    "        \n",
    "\n",
    "        total_time = total_time - day_passed*minutes_in_a_day\n",
    "        total_time_in_hours=int(truncate(total_time/60))\n",
    "        total_time_in_minutes = total_time%60\n",
    "        \n",
    "        if total_time_in_minutes<10:\n",
    "            total_time_in_minutes='0{}'.format(total_time_in_minutes)\n",
    "          \n",
    "        if (total_time > 720):\n",
    "            am_or_pm = 'PM'\n",
    "            if total_time_in_hours ==0:\n",
    "                total_time_in_hours = 12\n",
    "        else:\n",
    "            am_or_pm ='AM'\n",
    "            if total_time_in_hours == 0:\n",
    "                total_time_in_hours = 12\n",
    "  \n",
    "    if start_day == 'none':\n",
    "        \n",
    "        if day_passed ==1:\n",
    "            time_passed = ' (next day)'\n",
    "        elif day_passed > 1:\n",
    "            time_passed = ' ({} days later)'.format(day_passed)\n",
    "        else:\n",
    "            time_passed = ''\n",
    "        return \"{}:{} {}{}\".format(total_time_in_hours,total_time_in_minutes,am_or_pm,time_passed)\n",
    "    \n",
    "    else:\n",
    "        # figuring out correct days\n",
    "        day_from_list = days[start_day.lower()]\n",
    "        inv_days = {v: k for k, v in days.items()}\n",
    "        index_for_day = day_from_list+day_passed\n",
    "        if index_for_day > 7:\n",
    "            index_for_day = index_for_day %7\n",
    "        current_day = (inv_days[index_for_day]).title()\n",
    "        \n",
    "        if day_passed ==1:\n",
    "            time_passed = ' (next day)'\n",
    "        elif day_passed > 1:\n",
    "            time_passed = ' ({} days later)'.format(day_passed)\n",
    "        else:\n",
    "            time_passed = ''\n",
    "        return \"{}:{} {}, {}{}\".format(total_time_in_hours,total_time_in_minutes,am_or_pm,current_day,time_passed)\n",
    "    \n",
    "        \n",
    "    "
   ]
  },
  {
   "cell_type": "code",
   "execution_count": 229,
   "metadata": {},
   "outputs": [
    {
     "name": "stdout",
     "output_type": "stream",
     "text": [
      "12\n",
      "12:05 PM\n"
     ]
    }
   ],
   "source": [
    "print(add_time(\"11:55 AM\",\"0:10\"))\n",
    "# 'Expected period to change from AM to PM at 12:00')\n",
    "# AssertionError: '0:05 PM' != '12:05 PM'"
   ]
  },
  {
   "cell_type": "code",
   "execution_count": 230,
   "metadata": {},
   "outputs": [
    {
     "name": "stdout",
     "output_type": "stream",
     "text": [
      "486\n",
      "6:18 AM, Monday (20 days later)\n"
     ]
    }
   ],
   "source": [
    "print(add_time(\"8:16 PM\",\"466:02\",\"tuesday\"))\n",
    "# Expected calling \"add_time()\" with \"8:16 PM\", \"466:02\", \"tuesday\" to return \"6:18 AM, Monday (20 days later)\""
   ]
  },
  {
   "cell_type": "code",
   "execution_count": 231,
   "metadata": {},
   "outputs": [
    {
     "name": "stdout",
     "output_type": "stream",
     "text": [
      "15\n",
      "3:07 PM\n"
     ]
    }
   ],
   "source": [
    "print(add_time(\"11:55 AM\",\"3:12\"))\n",
    "# 'Expected calling \"add_time()\" with \"11:55 AM\", \"3:12\" to return \"3:07 PM\""
   ]
  },
  {
   "cell_type": "code",
   "execution_count": 232,
   "metadata": {},
   "outputs": [
    {
     "name": "stdout",
     "output_type": "stream",
     "text": [
      "17\n",
      "5:42 PM\n"
     ]
    }
   ],
   "source": [
    "print(add_time(\"3:30 PM\",\"2:12\"))\n",
    "# 'Expected calling \"add_time()\" with \"3:30 PM\", \"2:12\" TO BE 5:42 PM"
   ]
  },
  {
   "cell_type": "code",
   "execution_count": 233,
   "metadata": {},
   "outputs": [
    {
     "name": "stdout",
     "output_type": "stream",
     "text": [
      "486\n",
      "6:18 AM, Monday (20 days later)\n"
     ]
    }
   ],
   "source": [
    "print(add_time(\"8:16 PM\", \"466:02\", \"tuesday\"))\n"
   ]
  },
  {
   "cell_type": "code",
   "execution_count": 234,
   "metadata": {},
   "outputs": [
    {
     "name": "stdout",
     "output_type": "stream",
     "text": [
      "48\n",
      "12:03 AM (2 days later)\n"
     ]
    }
   ],
   "source": [
    "print(add_time(\"11:43 PM\", \"24:20\"))\n",
    "# Returns: 12:03 AM (2 days later)"
   ]
  },
  {
   "cell_type": "code",
   "execution_count": 235,
   "metadata": {},
   "outputs": [
    {
     "name": "stdout",
     "output_type": "stream",
     "text": [
      "25\n",
      "1:08 AM (next day)\n"
     ]
    }
   ],
   "source": [
    "print(add_time(\"11:06 PM\", \"2:02\"))"
   ]
  },
  {
   "cell_type": "code",
   "execution_count": 236,
   "metadata": {},
   "outputs": [
    {
     "name": "stdout",
     "output_type": "stream",
     "text": [
      "223\n",
      "7:42 AM (9 days later)\n"
     ]
    }
   ],
   "source": [
    "print(add_time(\"6:30 PM\", \"205:12\"))"
   ]
  },
  {
   "cell_type": "code",
   "execution_count": 170,
   "metadata": {},
   "outputs": [
    {
     "name": "stdout",
     "output_type": "stream",
     "text": [
      "23\n",
      "1423\n",
      "1460\n",
      "2883 this is total_time\n",
      "2\n",
      "3 this is total_time\n",
      "12\n",
      "03\n",
      "AM\n",
      "2here is day_from_list\n",
      "Thursday\n",
      "12:03 AM, Thursday (2 days later)\n"
     ]
    }
   ],
   "source": [
    "print(add_time(\"11:43 PM\", \"24:20\", \"tueSday\"))\n",
    "# Returns: 12:03 AM, Thursday (2 days later)"
   ]
  },
  {
   "cell_type": "code",
   "execution_count": 112,
   "metadata": {},
   "outputs": [
    {
     "name": "stdout",
     "output_type": "stream",
     "text": [
      "11\n",
      "703\n",
      "20\n",
      "723\n",
      "12:03 PM \n"
     ]
    }
   ],
   "source": [
    "print(add_time(\"11:43 AM\", \"00:20\"))\n",
    "# Returns: 12:03 PM"
   ]
  },
  {
   "cell_type": "code",
   "execution_count": null,
   "metadata": {},
   "outputs": [],
   "source": []
  }
 ],
 "metadata": {
  "kernelspec": {
   "display_name": "Python 3",
   "language": "python",
   "name": "python3"
  },
  "language_info": {
   "codemirror_mode": {
    "name": "ipython",
    "version": 3
   },
   "file_extension": ".py",
   "mimetype": "text/x-python",
   "name": "python",
   "nbconvert_exporter": "python",
   "pygments_lexer": "ipython3",
   "version": "3.8.5"
  }
 },
 "nbformat": 4,
 "nbformat_minor": 4
}
